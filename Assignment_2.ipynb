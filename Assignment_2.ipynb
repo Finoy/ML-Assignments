{
  "nbformat": 4,
  "nbformat_minor": 0,
  "metadata": {
    "colab": {
      "name": "Assignment 2.ipynb",
      "provenance": [],
      "collapsed_sections": []
    },
    "kernelspec": {
      "name": "python3",
      "display_name": "Python 3"
    }
  },
  "cells": [
    {
      "cell_type": "markdown",
      "metadata": {
        "id": "s2QDZyzz1mLb",
        "colab_type": "text"
      },
      "source": [
        "# Task 1:"
      ]
    },
    {
      "cell_type": "markdown",
      "metadata": {
        "id": "8zpMjo3q1r1i",
        "colab_type": "text"
      },
      "source": [
        "**1.1** Write a Python Program to implement your own myreduce() function which works exactly like Python's built-in function reduce()"
      ]
    },
    {
      "cell_type": "code",
      "metadata": {
        "id": "t5W2KoL4sJ9u",
        "colab_type": "code",
        "outputId": "1584bfee-66dc-482c-a7ec-8161c477a863",
        "colab": {
          "base_uri": "https://localhost:8080/",
          "height": 34
        }
      },
      "source": [
        "def myReduce(fn,l):\n",
        "    a = l[0]\n",
        "    for i in range(len(l)-1):\n",
        "        a=fn(a,l[i+1])\n",
        "    print(a)\n",
        "        \n",
        "        \n",
        "\n",
        "lst =[1,2,3,4]\n",
        "myReduce(lambda a,b: a+b,lst)"
      ],
      "execution_count": 0,
      "outputs": [
        {
          "output_type": "stream",
          "text": [
            "10\n"
          ],
          "name": "stdout"
        }
      ]
    },
    {
      "cell_type": "markdown",
      "metadata": {
        "id": "Gt8Q1CZy16W-",
        "colab_type": "text"
      },
      "source": [
        "**1.2** Write a Python program to implement your own myfilter() function which works exactly like Python's built-in function filter()"
      ]
    },
    {
      "cell_type": "code",
      "metadata": {
        "id": "qi-dtGwltmwA",
        "colab_type": "code",
        "outputId": "b04d6845-53d4-445b-9b81-5a5366b15996",
        "colab": {
          "base_uri": "https://localhost:8080/",
          "height": 34
        }
      },
      "source": [
        "def myFilter(fn,l):\n",
        "    _filterList=[]\n",
        "    for i in range(len(l)):\n",
        "        if(fn(l[i])):\n",
        "            _filterList.append(l[i])\n",
        "    return _filterList\n",
        "\n",
        "lst =[1,2,3,4]\n",
        "myFilter(lambda x: x%2==0,lst)"
      ],
      "execution_count": 0,
      "outputs": [
        {
          "output_type": "execute_result",
          "data": {
            "text/plain": [
              "[2, 4]"
            ]
          },
          "metadata": {
            "tags": []
          },
          "execution_count": 2
        }
      ]
    },
    {
      "cell_type": "markdown",
      "metadata": {
        "id": "8L7obNkb2KFC",
        "colab_type": "text"
      },
      "source": [
        "**2.** Implement List comprehensions to produce the following lists. Write List comprehensions to produce the following \n",
        "\n",
        "['A', 'C', 'A', 'D', 'G', 'I', ’L’, ‘ D’]\n",
        "\n",
        "['x', 'xx', 'xxx', 'xxxx', 'y', 'yy', 'yyy', 'yyyy', 'z', 'zz', 'zzz', 'zzzz']\n",
        "\n",
        "['x', 'y', 'z', 'xx', 'yy', 'zz', 'xx', 'yy', 'zz', 'xxxx', 'yyyy', 'zzzz']\n",
        "\n",
        "[[2], [3], [4], [3], [4], [5], [4], [5], [6]]\n",
        "\n",
        "\n",
        "[[2, 3, 4, 5], [3, 4, 5, 6], [4, 5, 6, 7], [5, 6, 7, 8]]\n",
        "\n",
        "\n",
        "[(1, 1), (2, 1), (3, 1), (1, 2), (2, 2), (3, 2), (1, 3), (2, 3), (3, 3)]\n"
      ]
    },
    {
      "cell_type": "code",
      "metadata": {
        "id": "5E8KSjF8ts5m",
        "colab_type": "code",
        "outputId": "4acfafa8-464d-4a59-8eda-3ab0e71c3856",
        "colab": {
          "base_uri": "https://localhost:8080/",
          "height": 119
        }
      },
      "source": [
        "#['A', 'C', 'A', 'D', 'G', 'I', ’L’, ‘ D’]\n",
        "list1 = [i for i in 'ACADGILD']\n",
        "#['x', 'xx', 'xxx', 'xxxx', 'y', 'yy', 'yyy', 'yyyy', 'z', 'zz', 'zzz', 'zzzz']\n",
        "list2 = [n * i for i in ['x', 'y', 'z'] for n in range(1, 5)] \n",
        "#['x', 'y', 'z', 'xx', 'yy', 'zz', 'xx', 'yy', 'zz', 'xxxx', 'yyyy', 'zzzz']\n",
        "list3 = [i*n for n in [1,2,2,4] for i in ['x', 'y', 'z']]\n",
        "#[[2], [3], [4], [3], [4], [5], [4], [5], [6]]\n",
        "list4 = [ [i+n] for i in [2,3,4] for n in range(0,3)] \n",
        "#[[2, 3, 4, 5], [3, 4, 5, 6], [4, 5, 6, 7], [5, 6, 7, 8]]\n",
        "list5 = [ [i+n for i in [2,3,4,5]] for n in range(0,4)]\n",
        "#[(1, 1), (2, 1), (3, 1), (1, 2), (2, 2), (3, 2), (1, 3), (2, 3), (3, 3)]\n",
        "list6 = [ (b,a) for a in [1,2,3] for b in [1,2,3]]\n",
        "\n",
        "\n",
        "print(list1)\n",
        "print(list2)\n",
        "print(list3)\n",
        "print(list4)\n",
        "print(list5)\n",
        "print(list6)"
      ],
      "execution_count": 0,
      "outputs": [
        {
          "output_type": "stream",
          "text": [
            "['A', 'C', 'A', 'D', 'G', 'I', 'L', 'D']\n",
            "['x', 'xx', 'xxx', 'xxxx', 'y', 'yy', 'yyy', 'yyyy', 'z', 'zz', 'zzz', 'zzzz']\n",
            "['x', 'y', 'z', 'xx', 'yy', 'zz', 'xx', 'yy', 'zz', 'xxxx', 'yyyy', 'zzzz']\n",
            "[[2], [3], [4], [3], [4], [5], [4], [5], [6]]\n",
            "[[2, 3, 4, 5], [3, 4, 5, 6], [4, 5, 6, 7], [5, 6, 7, 8]]\n",
            "[(1, 1), (2, 1), (3, 1), (1, 2), (2, 2), (3, 2), (1, 3), (2, 3), (3, 3)]\n"
          ],
          "name": "stdout"
        }
      ]
    },
    {
      "cell_type": "markdown",
      "metadata": {
        "id": "dcEHmuPV3Osi",
        "colab_type": "text"
      },
      "source": [
        "3. Implement a function longestWord() that takes a list of words and returns the longest one."
      ]
    },
    {
      "cell_type": "code",
      "metadata": {
        "id": "eUmUeUd0t3wL",
        "colab_type": "code",
        "outputId": "8ef82637-9d4b-4eac-c56a-d28676bbd312",
        "colab": {
          "base_uri": "https://localhost:8080/",
          "height": 34
        }
      },
      "source": [
        "from functools import reduce\n",
        "\n",
        "def longestWord(l):\n",
        "    return reduce(lambda a,b: a if (len(a) > len(b)) else b,l)\n",
        "    \n",
        "s='My full name is Finoy Francis'\n",
        "lst=s.split()\n",
        "longestWord(lst)"
      ],
      "execution_count": 0,
      "outputs": [
        {
          "output_type": "execute_result",
          "data": {
            "text/plain": [
              "'Francis'"
            ]
          },
          "metadata": {
            "tags": []
          },
          "execution_count": 8
        }
      ]
    },
    {
      "cell_type": "markdown",
      "metadata": {
        "id": "SqjQjGba3yNa",
        "colab_type": "text"
      },
      "source": [
        "# Task 2:"
      ]
    },
    {
      "cell_type": "markdown",
      "metadata": {
        "id": "xvSWHrnjIRbj",
        "colab_type": "text"
      },
      "source": [
        "**1.1** Write a Python Program(with class concepts) to find the area of the triangle using the below formula.\n",
        "\n",
        "area = (s*(s-a)*(s-b)*(s-c)) ** 0.5\n",
        "\n",
        "Function to take the length of the sides of triangle from user should be defined in the parent class and function to calculate the area should be defined in subclass."
      ]
    },
    {
      "cell_type": "code",
      "metadata": {
        "id": "dnNqsvs_InLC",
        "colab_type": "code",
        "outputId": "ac65b6f5-5819-4fe9-aa25-d81c62afd696",
        "colab": {
          "base_uri": "https://localhost:8080/",
          "height": 34
        }
      },
      "source": [
        "#https://www.mathsisfun.com/geometry/herons-formula.html\n",
        "#Classic Heron's Formula:\n",
        "#s = (a+b+c)/2 = 6\n",
        "#Area = √( s(s-a)(s-b)(s-c) )\n",
        "#Area = 6\n",
        "\n",
        "class SidesInput:\n",
        "    def __init__(self, a,b,c):\n",
        "      self.a = a\n",
        "      self.b = b\n",
        "      self.c = c\n",
        "      self.s = int((a+b+c)/2)\n",
        "\n",
        "class CalculateAreaofTriangle(SidesInput):\n",
        "    def __init__(self, *args):\n",
        "      super(CalculateAreaofTriangle, self).__init__(*args)\n",
        "      _s=self.s\n",
        "      _a=self.a\n",
        "      _b=self.b\n",
        "      _c=self.c\n",
        "\n",
        "      self.area=((_s*(_s-_a)*(_s-_b)*(_s-_c)) ** 0.5)\n",
        "      \n",
        "    def __str__(self):\n",
        "        return str(self.area)\n",
        "\n",
        "areaofTriangle=CalculateAreaofTriangle(7,8,5)\n",
        "print(areaofTriangle)"
      ],
      "execution_count": 0,
      "outputs": [
        {
          "output_type": "stream",
          "text": [
            "17.320508075688775\n"
          ],
          "name": "stdout"
        }
      ]
    },
    {
      "cell_type": "markdown",
      "metadata": {
        "id": "z_k3XjGJ31gR",
        "colab_type": "text"
      },
      "source": [
        "**1.2** Write a function filter_long_words() that takes a list of words and an integer n and returns the list of words that are longer than n."
      ]
    },
    {
      "cell_type": "code",
      "metadata": {
        "id": "u_rfEQPN4DLr",
        "colab_type": "code",
        "outputId": "7cdbc1ff-8e9f-43f0-83c3-a2bc78fc743d",
        "colab": {
          "base_uri": "https://localhost:8080/",
          "height": 34
        }
      },
      "source": [
        "def filter_long_words(l,n):\n",
        "    return [i for i in l if len(i)>n]\n",
        "    \n",
        "s='My full name is Finoy Francis'\n",
        "lst=s.split()\n",
        "filter_long_words(lst,4)"
      ],
      "execution_count": 0,
      "outputs": [
        {
          "output_type": "execute_result",
          "data": {
            "text/plain": [
              "['Finoy', 'Francis']"
            ]
          },
          "metadata": {
            "tags": []
          },
          "execution_count": 13
        }
      ]
    },
    {
      "cell_type": "markdown",
      "metadata": {
        "id": "iOX6ZPS-g1vg",
        "colab_type": "text"
      },
      "source": [
        "**2.1** Write a Python program using function concept that maps list of words into a list of integers representing the lengths of the corresponding words​.\n",
        "\n",
        "**Hint:** ​ If a list [ ab,cde,erty] is passed on to the python function output should come as [2,3,4]\n",
        "\n",
        "Here 2,3 and 4 are the lengths of the words in the list."
      ]
    },
    {
      "cell_type": "code",
      "metadata": {
        "id": "3YfaD_HehIuN",
        "colab_type": "code",
        "outputId": "cd6b2459-e685-4fcf-b27d-d1ca6f0164ff",
        "colab": {
          "base_uri": "https://localhost:8080/",
          "height": 34
        }
      },
      "source": [
        "def lengthofWords(lw):\n",
        "  lenWords = list(map (lambda w: len(w), lw))\n",
        "  return lenWords\n",
        "\n",
        "listOfWords=['Hello World', 'I', 'am', 'Finoy']\n",
        "lengthofWords(listOfWords)"
      ],
      "execution_count": 0,
      "outputs": [
        {
          "output_type": "execute_result",
          "data": {
            "text/plain": [
              "[11, 1, 2, 5]"
            ]
          },
          "metadata": {
            "tags": []
          },
          "execution_count": 49
        }
      ]
    },
    {
      "cell_type": "markdown",
      "metadata": {
        "id": "I2JgJHKWhTk8",
        "colab_type": "text"
      },
      "source": [
        "**2.2** Write a Python function which takes a character (i.e. a string of length 1) and returns True if it is a vowel, False otherwise."
      ]
    },
    {
      "cell_type": "code",
      "metadata": {
        "id": "ZHDqp4OKhkRq",
        "colab_type": "code",
        "outputId": "a3f3cd85-65a5-4fa1-b89a-b1677f1854a1",
        "colab": {
          "base_uri": "https://localhost:8080/",
          "height": 34
        }
      },
      "source": [
        "def hasVowel(s):\n",
        "  lis=[i for i in 'aeiou' if s.lower().find(i)!=-1]\n",
        "  if(len(lis)):\n",
        "    return True\n",
        "  else:\n",
        "    return False\n",
        "\n",
        "#txt=\"Hello, welcome to my world.\"\n",
        "txt=\"B\"\n",
        "hasVowel(txt)"
      ],
      "execution_count": 67,
      "outputs": [
        {
          "output_type": "execute_result",
          "data": {
            "text/plain": [
              "False"
            ]
          },
          "metadata": {
            "tags": []
          },
          "execution_count": 67
        }
      ]
    }
  ]
}
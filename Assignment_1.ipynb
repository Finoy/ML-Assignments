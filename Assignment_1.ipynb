{
  "nbformat": 4,
  "nbformat_minor": 0,
  "metadata": {
    "kernelspec": {
      "display_name": "Python 3",
      "language": "python",
      "name": "python3"
    },
    "language_info": {
      "codemirror_mode": {
        "name": "ipython",
        "version": 3
      },
      "file_extension": ".py",
      "mimetype": "text/x-python",
      "name": "python",
      "nbconvert_exporter": "python",
      "pygments_lexer": "ipython3",
      "version": "3.7.6"
    },
    "colab": {
      "name": "Assignment 1.ipynb",
      "provenance": [],
      "collapsed_sections": []
    }
  },
  "cells": [
    {
      "cell_type": "markdown",
      "metadata": {
        "id": "sINmcNGmHsWj",
        "colab_type": "text"
      },
      "source": [
        "# Task 1:"
      ]
    },
    {
      "cell_type": "markdown",
      "metadata": {
        "id": "kAu5JKRRHsWo",
        "colab_type": "text"
      },
      "source": [
        "1. Install Jupyter notebook and run the first program and share the screenshot of the output."
      ]
    },
    {
      "cell_type": "markdown",
      "metadata": {
        "id": "ZEe6VTlGI0qB",
        "colab_type": "text"
      },
      "source": [
        "[Screenshot](https://github.com/Finoy/ML-Assignments/blob/master/2020-03-02-194355_1366x768_scrot.png)"
      ]
    },
    {
      "cell_type": "markdown",
      "metadata": {
        "id": "z1I2HqKhHsWt",
        "colab_type": "text"
      },
      "source": [
        "2. Write a program which will find all such numbers which are divisible by 7 but are not a multiple\n",
        "of 5, between 2000 and 3200 (both included). The numbers obtained should be printed in a\n",
        "comma-separated sequence on a single line."
      ]
    },
    {
      "cell_type": "code",
      "metadata": {
        "id": "23LZksdjHsWv",
        "colab_type": "code",
        "outputId": "605dc0b0-1fc6-49f4-f0a3-efbec153007e",
        "colab": {
          "base_uri": "https://localhost:8080/",
          "height": 54
        }
      },
      "source": [
        "numberRange=list(range(2000,3201))\n",
        "\n",
        "for i in numberRange:\n",
        "    if i%7==0 and i%5!=0:\n",
        "        print(i,end=\",\")   \n"
      ],
      "execution_count": 0,
      "outputs": [
        {
          "output_type": "stream",
          "text": [
            "2002,2009,2016,2023,2037,2044,2051,2058,2072,2079,2086,2093,2107,2114,2121,2128,2142,2149,2156,2163,2177,2184,2191,2198,2212,2219,2226,2233,2247,2254,2261,2268,2282,2289,2296,2303,2317,2324,2331,2338,2352,2359,2366,2373,2387,2394,2401,2408,2422,2429,2436,2443,2457,2464,2471,2478,2492,2499,2506,2513,2527,2534,2541,2548,2562,2569,2576,2583,2597,2604,2611,2618,2632,2639,2646,2653,2667,2674,2681,2688,2702,2709,2716,2723,2737,2744,2751,2758,2772,2779,2786,2793,2807,2814,2821,2828,2842,2849,2856,2863,2877,2884,2891,2898,2912,2919,2926,2933,2947,2954,2961,2968,2982,2989,2996,3003,3017,3024,3031,3038,3052,3059,3066,3073,3087,3094,3101,3108,3122,3129,3136,3143,3157,3164,3171,3178,3192,3199,"
          ],
          "name": "stdout"
        }
      ]
    },
    {
      "cell_type": "markdown",
      "metadata": {
        "id": "fL9KitwIHsW6",
        "colab_type": "text"
      },
      "source": [
        "3. Write a Python program to accept the user's first and last name and then getting them printed in the the reverse order with a space between first name and last name."
      ]
    },
    {
      "cell_type": "code",
      "metadata": {
        "id": "NRICy-qHHsW8",
        "colab_type": "code",
        "outputId": "6643b849-e804-4355-aa59-f576b72e557b",
        "colab": {
          "base_uri": "https://localhost:8080/",
          "height": 68
        }
      },
      "source": [
        "firstName = input(\"What is your first name? \")\n",
        "lastName = input(\"What is your last name? \")\n",
        "fullName = firstName+' '+lastName\n",
        "reverseName = lastName+' '+firstName\n",
        "print(reverseName)"
      ],
      "execution_count": 0,
      "outputs": [
        {
          "output_type": "stream",
          "text": [
            "What is your first name? Finoy\n",
            "What is your last name? Francis\n",
            "Francis Finoy\n"
          ],
          "name": "stdout"
        }
      ]
    },
    {
      "cell_type": "markdown",
      "metadata": {
        "id": "2_AhwC2JHsXF",
        "colab_type": "text"
      },
      "source": [
        "4. Write a Python program to find the volume of a sphere with diameter 12 cm.\n",
        "Formula: V=4/3 * π * r^3"
      ]
    },
    {
      "cell_type": "code",
      "metadata": {
        "id": "W3xLypfWHsXH",
        "colab_type": "code",
        "outputId": "3faac7e2-b06e-4f4c-f639-28345c165de1",
        "colab": {
          "base_uri": "https://localhost:8080/",
          "height": 34
        }
      },
      "source": [
        "d=12\n",
        "r=d/2\n",
        "v=(4/3)*3.14*(r**3)\n",
        "print(v)"
      ],
      "execution_count": 0,
      "outputs": [
        {
          "output_type": "stream",
          "text": [
            "904.3199999999999\n"
          ],
          "name": "stdout"
        }
      ]
    },
    {
      "cell_type": "markdown",
      "metadata": {
        "id": "iMoMOw1FHsXN",
        "colab_type": "text"
      },
      "source": [
        "# Task 2:"
      ]
    },
    {
      "cell_type": "markdown",
      "metadata": {
        "id": "HUUZL340HsXO",
        "colab_type": "text"
      },
      "source": [
        "1. Write a program which accepts a sequence of comma-separated numbers from console and\n",
        "generate a list."
      ]
    },
    {
      "cell_type": "code",
      "metadata": {
        "scrolled": false,
        "id": "G7BpZf6qHsXQ",
        "colab_type": "code",
        "outputId": "a397aaa7-7c68-4582-8599-07dab5bbdbd5",
        "colab": {
          "base_uri": "https://localhost:8080/",
          "height": 51
        }
      },
      "source": [
        "sequenceNumbers = input(\"Provide a sequence of comma-separated numbers \")\n",
        "print (sequenceNumbers.split(','))"
      ],
      "execution_count": 0,
      "outputs": [
        {
          "output_type": "stream",
          "text": [
            "Provide a sequence of comma-separated numbers 1,3,77,98\n",
            "['1', '3', '77', '98']\n"
          ],
          "name": "stdout"
        }
      ]
    },
    {
      "cell_type": "markdown",
      "metadata": {
        "id": "nSyL4zFYHsXa",
        "colab_type": "text"
      },
      "source": [
        "2. Create the below pattern using nested for loop in Python."
      ]
    },
    {
      "cell_type": "code",
      "metadata": {
        "scrolled": true,
        "id": "ypAzWTBZHsXc",
        "colab_type": "code",
        "outputId": "ceb09280-4ed1-47e5-ff85-61c5930f4be8",
        "colab": {
          "base_uri": "https://localhost:8080/",
          "height": 187
        }
      },
      "source": [
        "n=5\n",
        "for a in list(range(n)):\n",
        "    for b in list(range(a)):\n",
        "        print('*',end='')\n",
        "    print('')\n",
        "for a in list(range(n,0,-1)):\n",
        "    for b in list(range(a)):\n",
        "        print('*',end='')\n",
        "    print('')"
      ],
      "execution_count": 0,
      "outputs": [
        {
          "output_type": "stream",
          "text": [
            "\n",
            "*\n",
            "**\n",
            "***\n",
            "****\n",
            "*****\n",
            "****\n",
            "***\n",
            "**\n",
            "*\n"
          ],
          "name": "stdout"
        }
      ]
    },
    {
      "cell_type": "markdown",
      "metadata": {
        "id": "UlMh-ShcHsXh",
        "colab_type": "text"
      },
      "source": [
        "3. Write a Python program to reverse a word after accepting the input from the user."
      ]
    },
    {
      "cell_type": "code",
      "metadata": {
        "id": "eyaB_R_gHsXk",
        "colab_type": "code",
        "outputId": "0620e6f6-b2e5-4969-a8f9-4fc968ed2e97",
        "colab": {
          "base_uri": "https://localhost:8080/",
          "height": 51
        }
      },
      "source": [
        "l=input(\"Provide a word \")\n",
        "print(l[::-1])"
      ],
      "execution_count": 0,
      "outputs": [
        {
          "output_type": "stream",
          "text": [
            "Provide a word Finoy Francis\n",
            "sicnarF yoniF\n"
          ],
          "name": "stdout"
        }
      ]
    },
    {
      "cell_type": "markdown",
      "metadata": {
        "id": "72eO3PavHsXp",
        "colab_type": "text"
      },
      "source": [
        "4. Write a Python Program to print the given string in the format specified in the ​ sample output."
      ]
    },
    {
      "cell_type": "code",
      "metadata": {
        "scrolled": true,
        "id": "Iv6vF_LqHsXr",
        "colab_type": "code",
        "outputId": "ba27d86e-1d5b-4a24-ba52-af136176d4ed",
        "colab": {
          "base_uri": "https://localhost:8080/",
          "height": 85
        }
      },
      "source": [
        "print(\"WE, THE PEOPLE OF INDIA,\\n\\thaving solemnly resolved to constitute India into a SOVEREIGN, !\\n\\t\\tSOCIALIST, SECULAR, DEMOCRATIC REPUBLIC\\n\\t\\t and to secure to all its citizens\")"
      ],
      "execution_count": 0,
      "outputs": [
        {
          "output_type": "stream",
          "text": [
            "WE, THE PEOPLE OF INDIA,\n",
            "\thaving solemnly resolved to constitute India into a SOVEREIGN, !\n",
            "\t\tSOCIALIST, SECULAR, DEMOCRATIC REPUBLIC\n",
            "\t\t and to secure to all its citizens\n"
          ],
          "name": "stdout"
        }
      ]
    },
    {
      "cell_type": "code",
      "metadata": {
        "id": "3Qv6otSOHsXx",
        "colab_type": "code",
        "colab": {}
      },
      "source": [
        ""
      ],
      "execution_count": 0,
      "outputs": []
    }
  ]
}
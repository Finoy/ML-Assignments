{
  "nbformat": 4,
  "nbformat_minor": 0,
  "metadata": {
    "colab": {
      "name": "Assignment 3.ipynb",
      "provenance": []
    },
    "kernelspec": {
      "name": "python3",
      "display_name": "Python 3"
    }
  },
  "cells": [
    {
      "cell_type": "markdown",
      "metadata": {
        "id": "oEnCd_2xr187",
        "colab_type": "text"
      },
      "source": [
        "# Task 1"
      ]
    },
    {
      "cell_type": "markdown",
      "metadata": {
        "id": "OwTUJizjrkjJ",
        "colab_type": "text"
      },
      "source": [
        "**1.** Write a function to compute 5/0 and use try/except to catch the exceptions."
      ]
    },
    {
      "cell_type": "code",
      "metadata": {
        "id": "biJ1S1yarvyI",
        "colab_type": "code",
        "outputId": "43707c7e-cf63-4cfa-8f8f-19c1e1095509",
        "colab": {
          "base_uri": "https://localhost:8080/",
          "height": 34
        }
      },
      "source": [
        "#print(5/0)\n",
        "try:\n",
        "  print(5/0)\n",
        "except(ZeroDivisionError):\n",
        "  print(\"Division by zero is not possible\")\n",
        "except:\n",
        "  print(\"An exception occurred\")"
      ],
      "execution_count": 0,
      "outputs": [
        {
          "output_type": "stream",
          "text": [
            "Division by zero is not possible\n"
          ],
          "name": "stdout"
        }
      ]
    },
    {
      "cell_type": "markdown",
      "metadata": {
        "id": "VClVIqhVu-va",
        "colab_type": "text"
      },
      "source": [
        "**2.** Implement a Python program to generate all sentences where subject is in [\"Americans\",\"Indians\"] and verb is in [\"Play\", \"watch\"] and the object is in [\"Baseball\",\"cricket\"].\n",
        "\n",
        "Hint: Subject,Verb and Object should be declared in the program as shown below.\n",
        "```\n",
        "subjects=[\"Americans\",\"Indians\"]\n",
        "verbs=[\"play\",\"watch\"]\n",
        "objects=[\"Baseball\",\"Cricket\"]\n",
        "```\n",
        "\n",
        "**Output should come as below:**\n",
        "\n",
        "Americans play Baseball.\n",
        "\n",
        "Americans play Cricket.\n",
        "\n",
        "Americans watch Baseball.\n",
        "\n",
        "Americans watch Cricket.\n",
        "\n",
        "Indians play Baseball.\n",
        "\n",
        "Indians play Cricket.\n",
        "\n",
        "Indians watch Baseball.\n",
        "\n",
        "Indians watch Cricket."
      ]
    },
    {
      "cell_type": "code",
      "metadata": {
        "id": "Olrm96fevY4M",
        "colab_type": "code",
        "outputId": "8df92932-f30c-47df-8ed7-e5cf7a4910b8",
        "colab": {
          "base_uri": "https://localhost:8080/",
          "height": 153
        }
      },
      "source": [
        "subjects=[\"Americans\",\"Indians\"]\n",
        "verbs=[\"play\",\"watch\"]\n",
        "objects=[\"Baseball\",\"Cricket\"]\n",
        "\n",
        "sentenceLst=[(sub+\" \"+ver+\" \"+obj+\".\") for sub in subjects for ver in verbs for obj in objects]\n",
        "for sentence in sentenceLst:\n",
        "  print (sentence)"
      ],
      "execution_count": 0,
      "outputs": [
        {
          "output_type": "stream",
          "text": [
            "Americans play Baseball.\n",
            "Americans play Cricket.\n",
            "Americans watch Baseball.\n",
            "Americans watch Cricket.\n",
            "Indians play Baseball.\n",
            "Indians play Cricket.\n",
            "Indians watch Baseball.\n",
            "Indians watch Cricket.\n"
          ],
          "name": "stdout"
        }
      ]
    },
    {
      "cell_type": "markdown",
      "metadata": {
        "id": "CQRI9ZXGyPSU",
        "colab_type": "text"
      },
      "source": [
        "# Task 2"
      ]
    },
    {
      "cell_type": "markdown",
      "metadata": {
        "id": "oi6497h9ymvf",
        "colab_type": "text"
      },
      "source": [
        "**1.** Write a function so that the columns of the output matrix are powers of the input vector.\n",
        "\n",
        "The order of the powers is determined by the increasing boolean argument. Specifically, when increasing is False, the i-th output column is the input vector raised element-wise to the power of N - i - 1.\n",
        "\n",
        "**HINT:** Such a matrix with a geometric progression in each row is named for Alexandre-Theophile Vandermonde."
      ]
    },
    {
      "cell_type": "code",
      "metadata": {
        "id": "wEBRRYK2y00m",
        "colab_type": "code",
        "outputId": "15c70265-39c9-481a-a8b1-5e480995800c",
        "colab": {
          "base_uri": "https://localhost:8080/",
          "height": 102
        }
      },
      "source": [
        "def genMatrix(inputVector,numberOfColumns):\n",
        "  N=numberOfColumns\n",
        "  matrix = [ [(val ** (N-i-1)) for i in range(N)] for val in inputVector]\n",
        "  for eachRow in matrix: \n",
        "      print(eachRow)\n",
        "\n",
        "genMatrix([1,2,3,4,5],3)"
      ],
      "execution_count": 1,
      "outputs": [
        {
          "output_type": "stream",
          "text": [
            "[1, 1, 1]\n",
            "[4, 2, 1]\n",
            "[9, 3, 1]\n",
            "[16, 4, 1]\n",
            "[25, 5, 1]\n"
          ],
          "name": "stdout"
        }
      ]
    }
  ]
}
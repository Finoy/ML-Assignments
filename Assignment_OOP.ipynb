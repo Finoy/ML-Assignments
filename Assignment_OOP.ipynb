{
  "nbformat": 4,
  "nbformat_minor": 0,
  "metadata": {
    "kernelspec": {
      "display_name": "Python 3",
      "language": "python",
      "name": "python3"
    },
    "language_info": {
      "codemirror_mode": {
        "name": "ipython",
        "version": 3
      },
      "file_extension": ".py",
      "mimetype": "text/x-python",
      "name": "python",
      "nbconvert_exporter": "python",
      "pygments_lexer": "ipython3",
      "version": "3.7.6"
    },
    "colab": {
      "name": "Assignment - OOP.ipynb",
      "provenance": [],
      "collapsed_sections": [],
      "toc_visible": true
    }
  },
  "cells": [
    {
      "cell_type": "markdown",
      "metadata": {
        "id": "oKLTc-7WR0k6",
        "colab_type": "text"
      },
      "source": [
        "# Assignment - OOP"
      ]
    },
    {
      "cell_type": "code",
      "metadata": {
        "id": "RxBod9BDR0k_",
        "colab_type": "code",
        "outputId": "b7749a16-cf0d-4203-8764-06106754945f",
        "colab": {
          "base_uri": "https://localhost:8080/",
          "height": 51
        }
      },
      "source": [
        "class A:\n",
        "    def __init__(self, name):\n",
        "        self.name = name\n",
        "    \n",
        "    def test(self):\n",
        "        print((self.name+','),\"test method of A called\")\n",
        "    \n",
        "class B:\n",
        "    def __init__(self, name):\n",
        "        self.name = name\n",
        "    \n",
        "    def test(self):\n",
        "        print((self.name+','),\"test method of B called\")\n",
        "\n",
        "class C(A,B):\n",
        "    def __init__(self, *args):\n",
        "        super(C, self).__init__(*args)\n",
        "        B(*args).test()\n",
        "\n",
        "x = C(\"Finoy\")\n",
        "x.test()"
      ],
      "execution_count": 25,
      "outputs": [
        {
          "output_type": "stream",
          "text": [
            "Finoy, test method of B called\n",
            "Finoy, test method of A called\n"
          ],
          "name": "stdout"
        }
      ]
    },
    {
      "cell_type": "code",
      "metadata": {
        "id": "nqoY-gKgR0lI",
        "colab_type": "code",
        "colab": {}
      },
      "source": [
        ""
      ],
      "execution_count": 0,
      "outputs": []
    }
  ]
}